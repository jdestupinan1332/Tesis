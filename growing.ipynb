{
 "metadata": {
  "name": ""
 },
 "nbformat": 3,
 "nbformat_minor": 0,
 "worksheets": [
  {
   "cells": [
    {
     "cell_type": "code",
     "collapsed": false,
     "input": [
      "%pylab inline"
     ],
     "language": "python",
     "metadata": {},
     "outputs": [
      {
       "output_type": "stream",
       "stream": "stdout",
       "text": [
        "Populating the interactive namespace from numpy and matplotlib\n"
       ]
      }
     ],
     "prompt_number": 1
    },
    {
     "cell_type": "code",
     "collapsed": false,
     "input": [
      "def vel (y, flux, vol, tau, bomb, n):\n",
      "    tcambio = 960                             #Tiempo en que cambia el medio\n",
      "    dt = 1/(60.0*2)\n",
      "    t = n*dt\n",
      "    nex = 0\n",
      "    v = 0\n",
      "    if t<570 or t>tcambio + 4*1/60.0:         #Crecimiento normal\n",
      "        if bomb[n] == 0:\n",
      "            v = y/tau\n",
      "            if y >0.55:                       #Threshold\n",
      "                nex = 1\n",
      "            else:\n",
      "                nex = 0\n",
      "        else:\n",
      "            v = y/tau - flux/vol * y\n",
      "            if bomb[n-1] == 0:\n",
      "                nex = 1\n",
      "            elif bomb[n-1] == 1:\n",
      "                nex = 0\n",
      "    elif t < tcambio:                         #tiempo muerto\n",
      "        v = y/tau\n",
      "        nex = 0\n",
      "    elif t >= tcambio and t<= tcambio + (4*1/60.0):\n",
      "        v = y/tau -flux/vol * y\n",
      "        nex = 1 \n",
      "    return v, nex#funcion que devuelve Y punto"
     ],
     "language": "python",
     "metadata": {},
     "outputs": [],
     "prompt_number": 109
    },
    {
     "cell_type": "code",
     "collapsed": false,
     "input": [
      "def RK (listY, listV, listB, Flux, Vol, Tau, listT, dt, tmax):\n",
      "    n=0\n",
      "    nex = 0\n",
      "    while (n < tmax/dt-1):\n",
      "        ytest = listY[n]\n",
      "        vtest = listV[n]\n",
      "        Btest = listB\n",
      "        \n",
      "        K1 = vtest*dt\n",
      "        \n",
      "        ytest = listY[n] + 0.5*K1\n",
      "        vtest, nex = vel(ytest, Flux, Vol, Tau, Btest, n)\n",
      "        \n",
      "        K2 = vtest*dt\n",
      "        \n",
      "        ytest = listY[n] + 0.5*K2\n",
      "        vtest, nex = vel(ytest, Flux, Vol, Tau, Btest, n)\n",
      "        \n",
      "        K3 = vtest*dt\n",
      "        \n",
      "        ytest = listY[n] + 0.5*K3\n",
      "        vtest, nex = vel(ytest, Flux, Vol, Tau, Btest, n)\n",
      "        \n",
      "        K4 = vtest*dt\n",
      "        \n",
      "        K = (K4 + 2*K3 + 2*K2 + K1)/6.0\n",
      "        \n",
      "        listY[n+1] = listY[n] + K\n",
      "        listV [n+1], nex = vel(listY[n+1], Flux, Vol, Tau, Btest, n)\n",
      "        listB[n+1] = nex\n",
      "        \n",
      "        n = n+1"
     ],
     "language": "python",
     "metadata": {},
     "outputs": [],
     "prompt_number": 110
    },
    {
     "cell_type": "code",
     "collapsed": false,
     "input": [
      "tmax = 2000                    #tiempo de simulacion\n",
      "dt=1/(60.0*2)                  #paso (0.5 segundos)\n",
      "\n",
      "listY = zeros(tmax/dt)         #Voltaje \n",
      "listV = zeros(tmax/dt)         #Velocidad de crecimiento\n",
      "listT = arange(0,tmax,dt)      #Tiempo\n",
      "listB = zeros(tmax/dt)         #bomba prendida o no\n",
      "\n",
      "\n",
      "Y0 = 0.4                       #Inicial segun datos\n",
      "fl = 0.7*60                    #flujo medido\n",
      "vo = 1.5                       #Vol tubos \n",
      "ta = 260.0                     #tiempo duplicacion medido\n",
      "nex = 0                        #bomba prendida en el siguiente  \n",
      "listY[0] = Y0\n",
      "listV[0], nex = vel(listY[0], fl, vo, ta, listB, 0)"
     ],
     "language": "python",
     "metadata": {},
     "outputs": [],
     "prompt_number": 111
    },
    {
     "cell_type": "code",
     "collapsed": false,
     "input": [
      "RK(listY, listV, listB, fl, vo, ta, listT, dt, tmax)"
     ],
     "language": "python",
     "metadata": {},
     "outputs": [],
     "prompt_number": 112
    },
    {
     "cell_type": "code",
     "collapsed": false,
     "input": [
      "figure(figsize=(10,7))\n",
      "plot(listT[0:569/dt], listY[0:569/dt])\n",
      "plot(listT[570/dt:959/dt], listY[570/dt:959/dt])\n",
      "plot(listT[960/dt:2000/dt-1], listY[960/dt:2000/dt-1])\n",
      "xlabel(\"min\")\n",
      "ylabel(\"V\")"
     ],
     "language": "python",
     "metadata": {},
     "outputs": [
      {
       "metadata": {},
       "output_type": "pyout",
       "prompt_number": 123,
       "text": [
        "<matplotlib.text.Text at 0xa3243dac>"
       ]
      },
      {
       "metadata": {},
       "output_type": "display_data",
       "png": "[encoded data removed]",
       "text": [
        "<matplotlib.figure.Figure at 0xafd3138c>"
       ]
      }
     ],
     "prompt_number": 123
    },
    {
     "cell_type": "code",
     "collapsed": false,
     "input": [
      "figure(figsize=(10,7))\n",
      "plot(listT,listB)\n",
      "ylim(-0.2,1.2)\n",
      "xlabel(\"min\")"
     ],
     "language": "python",
     "metadata": {},
     "outputs": [
      {
       "metadata": {},
       "output_type": "pyout",
       "prompt_number": 124,
       "text": [
        "<matplotlib.text.Text at 0xa324d0ec>"
       ]
      },
      {
       "metadata": {},
       "output_type": "display_data",
       "png": "[encoded data removed]",
       "text": [
        "<matplotlib.figure.Figure at 0xa323d26c>"
       ]
      }
     ],
     "prompt_number": 124
    },
    {
     "cell_type": "code",
     "collapsed": false,
     "input": [
      "def vgal(gal, bomb, time, n):\n",
      "    galp = 0.0\n",
      "    flux = 0.7*60\n",
      "    vol = 1.5\n",
      "    if time[n] > 640.0 and bomb[n] == 1:\n",
      "        galp = (20.0 - gal/vol)*flux\n",
      "    return galp"
     ],
     "language": "python",
     "metadata": {},
     "outputs": [],
     "prompt_number": 101
    },
    {
     "cell_type": "code",
     "collapsed": false,
     "input": [
      "def RKgal(listGal, listGalp, listB, listT, dt, tmax):\n",
      "    n=0\n",
      "    while (n < tmax/dt-1):\n",
      "        ytest = listGal[n]\n",
      "        vtest = listGalp[n]\n",
      "        Btest = listB\n",
      "        \n",
      "        K1 = vtest*dt\n",
      "        \n",
      "        ytest = listGal[n] + 0.5*K1\n",
      "        vtest = vgal(ytest, Btest, listT, n)\n",
      "        \n",
      "        K2 = vtest*dt\n",
      "        \n",
      "        ytest = listGal[n] + 0.5*K2\n",
      "        vtest = vgal(ytest, Btest, listT, n)\n",
      "        \n",
      "        K3 = vtest*dt\n",
      "        \n",
      "        ytest = listGal[n] + 0.5*K3\n",
      "        vtest = vgal(ytest, Btest, listT, n)\n",
      "        \n",
      "        K4 = vtest*dt\n",
      "        \n",
      "        K = (K4 + 2*K3 + 2*K2 + K1)/6.0\n",
      "        \n",
      "        listGal[n+1] = listGal[n] + K\n",
      "        listGalp [n+1] = vgal(listGal[n+1], Btest, listT, n)\n",
      "        \n",
      "        n = n+1\n",
      "        "
     ],
     "language": "python",
     "metadata": {},
     "outputs": [],
     "prompt_number": 102
    },
    {
     "cell_type": "code",
     "collapsed": false,
     "input": [
      "listGal = zeros(tmax/dt)         #Cantidad Galactosa\n",
      "listGalp =  zeros(tmax/dt)       #dGAL/dt        \n",
      "\n",
      "listGal[0] = 0.0\n",
      "listGalp[0] = vgal(listGal[0], listB, listT, 0)"
     ],
     "language": "python",
     "metadata": {},
     "outputs": [],
     "prompt_number": 103
    },
    {
     "cell_type": "code",
     "collapsed": false,
     "input": [
      "RKgal(listGal, listGalp, listB, listT, dt, tmax)"
     ],
     "language": "python",
     "metadata": {},
     "outputs": [],
     "prompt_number": 104
    },
    {
     "cell_type": "code",
     "collapsed": false,
     "input": [
      "figure(figsize=(10,7))\n",
      "ylim(-0.2,31)\n",
      "plot(listT[0:570/dt], listGal[0:570/dt])\n",
      "plot(listT[570/dt:2000/dt-1], listGal[570/dt:2000/dt-1])\n",
      "xlabel(\"min\")\n",
      "ylabel(\"mg\")"
     ],
     "language": "python",
     "metadata": {},
     "outputs": [
      {
       "metadata": {},
       "output_type": "pyout",
       "prompt_number": 125,
       "text": [
        "<matplotlib.text.Text at 0xa2dbfe4c>"
       ]
      },
      {
       "metadata": {},
       "output_type": "display_data",
       "png": "[encoded data removed]",
       "text": [
        "<matplotlib.figure.Figure at 0xa324d0ac>"
       ]
      }
     ],
     "prompt_number": 125
    },
    {
     "cell_type": "code",
     "collapsed": false,
     "input": [],
     "language": "python",
     "metadata": {},
     "outputs": []
    }
   ],
   "metadata": {}
  }
 ]
}