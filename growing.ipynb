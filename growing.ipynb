{
 "metadata": {
  "name": ""
 },
 "nbformat": 3,
 "nbformat_minor": 0,
 "worksheets": [
  {
   "cells": [
    {
     "cell_type": "code",
     "collapsed": false,
     "input": [
      "%pylab inline"
     ],
     "language": "python",
     "metadata": {},
     "outputs": [
      {
       "output_type": "stream",
       "stream": "stdout",
       "text": [
        "Populating the interactive namespace from numpy and matplotlib\n"
       ]
      }
     ],
     "prompt_number": 212
    },
    {
     "cell_type": "code",
     "collapsed": false,
     "input": [
      "#funcion que devuelve Y punto\n",
      "def vel (y, flux, vol, tau, bomb, n):\n",
      "    dt = 1/(60.0*2)\n",
      "    t = n*dt\n",
      "    nex = 0\n",
      "    v = 0\n",
      "    if t<400 or t>640 + 4*1/60.0:\n",
      "        if bomb[n] == 0:\n",
      "            v = y/tau\n",
      "            if y >0.55:\n",
      "                nex = 1\n",
      "            else:\n",
      "                nex = 0\n",
      "        else:\n",
      "            v = y/tau - flux/vol * y\n",
      "            if bomb[n-1] == 0:\n",
      "                nex = 1\n",
      "            elif bomb[n-1] == 1:\n",
      "                nex = 0\n",
      "    elif t < 640:\n",
      "        v = y/tau\n",
      "        nex = 0\n",
      "    elif t >= 640 and t<= 640 + (4*1/60.0):\n",
      "        v = y/tau -flux/vol * y\n",
      "        nex = 1 \n",
      "    return v, nex"
     ],
     "language": "python",
     "metadata": {},
     "outputs": [],
     "prompt_number": 297
    },
    {
     "cell_type": "code",
     "collapsed": false,
     "input": [
      "def RK (listY, listV, listB, Flux, Vol, Tau, listT, dt, tmax):\n",
      "    n=0\n",
      "    nex = 0\n",
      "    while (n < tmax/dt-1):\n",
      "        ytest = listY[n]\n",
      "        vtest = listV[n]\n",
      "        Btest = listB\n",
      "        \n",
      "        K1 = vtest*dt\n",
      "        \n",
      "        ytest = listY[n] + 0.5*K1\n",
      "        vtest, nex = vel(ytest, Flux, Vol, Tau, Btest, n)\n",
      "        \n",
      "        K2 = vtest*dt\n",
      "        \n",
      "        ytest = listY[n] + 0.5*K2\n",
      "        vtest, nex = vel(ytest, Flux, Vol, Tau, Btest, n)\n",
      "        \n",
      "        K3 = vtest*dt\n",
      "        \n",
      "        ytest = listY[n] + 0.5*K3\n",
      "        vtest, nex = vel(ytest, Flux, Vol, Tau, Btest, n)\n",
      "        \n",
      "        K4 = vtest*dt\n",
      "        \n",
      "        K = (K4 + 2*K3 + 2*K2 + K1)/6.0\n",
      "        \n",
      "        listY[n+1] = listY[n] + K\n",
      "        listV [n+1], nex = vel(listY[n+1], Flux, Vol, Tau, Btest, n)\n",
      "        listB[n+1] = nex\n",
      "        \n",
      "        n = n+1"
     ],
     "language": "python",
     "metadata": {},
     "outputs": [],
     "prompt_number": 298
    },
    {
     "cell_type": "code",
     "collapsed": false,
     "input": [
      "tmax = 2000 #tiempo de simulacion\n",
      "dt=1/(60.0*2) #paso\n",
      "\n",
      "listY = zeros(tmax/dt)\n",
      "listV = zeros(tmax/dt)\n",
      "listT = arange(0,tmax,dt)\n",
      "listB = zeros(tmax/dt)\n",
      "\n",
      "\n",
      "Y0 = 0.2\n",
      "fl = 0.7*60\n",
      "vo = 1.5\n",
      "ta = 260.0\n",
      "nex = 0\n",
      "listY[0] = Y0\n",
      "listV[0], nex = vel(listY[0], fl, vo, ta, listB, 0)"
     ],
     "language": "python",
     "metadata": {},
     "outputs": [],
     "prompt_number": 314
    },
    {
     "cell_type": "code",
     "collapsed": false,
     "input": [
      "RK(listY, listV, listB, fl, vo, ta, listT, dt, tmax)"
     ],
     "language": "python",
     "metadata": {},
     "outputs": [],
     "prompt_number": 315
    },
    {
     "cell_type": "code",
     "collapsed": false,
     "input": [
      "plot(listT, listY)"
     ],
     "language": "python",
     "metadata": {},
     "outputs": [
      {
       "metadata": {},
       "output_type": "pyout",
       "prompt_number": 316,
       "text": [
        "[<matplotlib.lines.Line2D at 0xa9f11d6c>]"
       ]
      },
      {
       "metadata": {},
       "output_type": "display_data",
       "png": "[encoded data removed]",
       "text": [
        "<matplotlib.figure.Figure at 0xa996eecc>"
       ]
      }
     ],
     "prompt_number": 316
    },
    {
     "cell_type": "code",
     "collapsed": false,
     "input": [
      "plot(listT,listB)\n",
      "ylim(-0.2,1.2)"
     ],
     "language": "python",
     "metadata": {},
     "outputs": [
      {
       "metadata": {},
       "output_type": "pyout",
       "prompt_number": 317,
       "text": [
        "(-0.2, 1.2)"
       ]
      },
      {
       "metadata": {},
       "output_type": "display_data",
       "png": "[encoded data removed]",
       "text": [
        "<matplotlib.figure.Figure at 0xa996af4c>"
       ]
      }
     ],
     "prompt_number": 317
    },
    {
     "cell_type": "code",
     "collapsed": false,
     "input": [],
     "language": "python",
     "metadata": {},
     "outputs": []
    }
   ],
   "metadata": {}
  }
 ]
}