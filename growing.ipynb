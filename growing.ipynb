{
 "cells": [
  {
   "cell_type": "code",
   "execution_count": 1,
   "metadata": {
    "collapsed": false
   },
   "outputs": [
    {
     "name": "stdout",
     "output_type": "stream",
     "text": [
      "Populating the interactive namespace from numpy and matplotlib\n"
     ]
    }
   ],
   "source": [
    "%pylab inline"
   ]
  },
  {
   "cell_type": "code",
   "execution_count": 2,
   "metadata": {
    "collapsed": false
   },
   "outputs": [],
   "source": [
    "def vel (y, flux, vol, tau, bomb, n):\n",
    "    tcambio = 630                             #Tiempo en que cambia el medio\n",
    "    dt = 1/(60.0*2)\n",
    "    t = n*dt\n",
    "    nex = 0\n",
    "    v = 0\n",
    "    if t<570 or t>tcambio + 4*1/60.0:         #Crecimiento normal\n",
    "        if bomb[n] == 0:\n",
    "            v = y/tau\n",
    "            if y >0.40:                       #Threshold\n",
    "                nex = 1\n",
    "            else:\n",
    "                nex = 0\n",
    "        else:\n",
    "            v = y/tau - flux/vol * y\n",
    "            if bomb[n-1] == 0:\n",
    "                nex = 1\n",
    "            elif bomb[n-1] == 1:\n",
    "                nex = 0\n",
    "    elif t < tcambio:                         #tiempo muerto\n",
    "        v = y/tau\n",
    "        nex = 0\n",
    "    elif t >= tcambio and t<= tcambio + (4*1/60.0):\n",
    "        v = y/tau -flux/vol * y\n",
    "        nex = 1 \n",
    "    return v, nex#funcion que devuelve Y punto"
   ]
  },
  {
   "cell_type": "code",
   "execution_count": 3,
   "metadata": {
    "collapsed": false
   },
   "outputs": [],
   "source": [
    "def RK (listY, listV, listB, Flux, Vol, Tau, listT, dt, tmax):\n",
    "    n=0\n",
    "    nex = 0\n",
    "    while (n < tmax/dt-1):\n",
    "        ytest = listY[n]\n",
    "        vtest = listV[n]\n",
    "        Btest = listB\n",
    "        \n",
    "        K1 = vtest*dt\n",
    "        \n",
    "        ytest = listY[n] + 0.5*K1\n",
    "        vtest, nex = vel(ytest, Flux, Vol, Tau, Btest, n)\n",
    "        \n",
    "        K2 = vtest*dt\n",
    "        \n",
    "        ytest = listY[n] + 0.5*K2\n",
    "        vtest, nex = vel(ytest, Flux, Vol, Tau, Btest, n)\n",
    "        \n",
    "        K3 = vtest*dt\n",
    "        \n",
    "        ytest = listY[n] + 0.5*K3\n",
    "        vtest, nex = vel(ytest, Flux, Vol, Tau, Btest, n)\n",
    "        \n",
    "        K4 = vtest*dt\n",
    "        \n",
    "        K = (K4 + 2*K3 + 2*K2 + K1)/6.0\n",
    "        \n",
    "        listY[n+1] = listY[n] + K\n",
    "        listV [n+1], nex = vel(listY[n+1], Flux, Vol, Tau, Btest, n)\n",
    "        listB[n+1] = nex\n",
    "        \n",
    "        n = n+1"
   ]
  },
  {
   "cell_type": "code",
   "execution_count": 22,
   "metadata": {
    "collapsed": false
   },
   "outputs": [],
   "source": [
    "tmax = 2000                    #tiempo de simulacion\n",
    "dt=1/(60.0*2)                  #paso (0.5 segundos)\n",
    "\n",
    "listY = zeros(tmax/dt)         #Voltaje \n",
    "listV = zeros(tmax/dt)         #Velocidad de crecimiento\n",
    "listT = arange(0,tmax,dt)      #Tiempo\n",
    "listB = zeros(tmax/dt)         #bomba prendida o no\n",
    "\n",
    "\n",
    "Y0 = 0.3                       #Inicial segun datos\n",
    "fl = 0.7*60                    #flujo medido\n",
    "vo = 1.5                       #Vol tubos \n",
    "ta = 130.0                     #tiempo duplicacion medido\n",
    "nex = 0                        #bomba prendida en el siguiente  \n",
    "listY[0] = Y0\n",
    "listV[0], nex = vel(listY[0], fl, vo, ta, listB, 0)"
   ]
  },
  {
   "cell_type": "code",
   "execution_count": 23,
   "metadata": {
    "collapsed": false
   },
   "outputs": [],
   "source": [
    "RK(listY, listV, listB, fl, vo, ta, listT, dt, tmax)"
   ]
  },
  {
   "cell_type": "code",
   "execution_count": 24,
   "metadata": {
    "collapsed": false
   },
   "outputs": [
    {
     "data": {
      "text/plain": [
       "<matplotlib.text.Text at 0x7fc108bb8950>"
      ]
     },
     "execution_count": 24,
     "metadata": {},
     "output_type": "execute_result"
    },
    {
     "data": {
      "image/png": "[encoded data removed]",
      "text/plain": [
       "<matplotlib.figure.Figure at 0x7fc108cbe710>"
      ]
     },
     "metadata": {},
     "output_type": "display_data"
    }
   ],
   "source": [
    "figure(figsize=(10,7))\n",
    "plot(listT[0:570/dt], listY[0:570/dt])\n",
    "plot(listT[570/dt:630/dt], listY[570/dt:630/dt])\n",
    "plot(listT[630/dt:2000/dt-1], listY[630/dt:2000/dt-1])\n",
    "xlabel(\"min\")\n",
    "ylabel(\"V\")"
   ]
  },
  {
   "cell_type": "code",
   "execution_count": 25,
   "metadata": {
    "collapsed": false
   },
   "outputs": [
    {
     "data": {
      "text/plain": [
       "<matplotlib.text.Text at 0x7fc107c84a90>"
      ]
     },
     "execution_count": 25,
     "metadata": {},
     "output_type": "execute_result"
    },
    {
     "data": {
      "image/png": "[encoded data removed]",
      "text/plain": [
       "<matplotlib.figure.Figure at 0x7fc108cecb50>"
      ]
     },
     "metadata": {},
     "output_type": "display_data"
    }
   ],
   "source": [
    "figure(figsize=(10,7))\n",
    "plot(listT,listB)\n",
    "ylim(-0.2,1.2)\n",
    "xlabel(\"min\")"
   ]
  },
  {
   "cell_type": "code",
   "execution_count": 26,
   "metadata": {
    "collapsed": false
   },
   "outputs": [],
   "source": [
    "def vgal(gal, bomb, time, n):\n",
    "    galp = 0.0\n",
    "    flux = 0.7*60\n",
    "    vol = 1.5\n",
    "    if time[n] > 630.0 and bomb[n] == 1:\n",
    "        galp = (20.0 - gal/vol)*flux\n",
    "    return galp"
   ]
  },
  {
   "cell_type": "code",
   "execution_count": 27,
   "metadata": {
    "collapsed": false
   },
   "outputs": [],
   "source": [
    "def RKgal(listGal, listGalp, listB, listT, dt, tmax):\n",
    "    n=0\n",
    "    while (n < tmax/dt-1):\n",
    "        ytest = listGal[n]\n",
    "        vtest = listGalp[n]\n",
    "        Btest = listB\n",
    "        \n",
    "        K1 = vtest*dt\n",
    "        \n",
    "        ytest = listGal[n] + 0.5*K1\n",
    "        vtest = vgal(ytest, Btest, listT, n)\n",
    "        \n",
    "        K2 = vtest*dt\n",
    "        \n",
    "        ytest = listGal[n] + 0.5*K2\n",
    "        vtest = vgal(ytest, Btest, listT, n)\n",
    "        \n",
    "        K3 = vtest*dt\n",
    "        \n",
    "        ytest = listGal[n] + 0.5*K3\n",
    "        vtest = vgal(ytest, Btest, listT, n)\n",
    "        \n",
    "        K4 = vtest*dt\n",
    "        \n",
    "        K = (K4 + 2*K3 + 2*K2 + K1)/6.0\n",
    "        \n",
    "        listGal[n+1] = listGal[n] + K\n",
    "        listGalp [n+1] = vgal(listGal[n+1], Btest, listT, n)\n",
    "        \n",
    "        n = n+1\n",
    "        "
   ]
  },
  {
   "cell_type": "code",
   "execution_count": 28,
   "metadata": {
    "collapsed": false
   },
   "outputs": [],
   "source": [
    "listGal = zeros(tmax/dt)         #Cantidad Galactosa\n",
    "listGalp =  zeros(tmax/dt)       #dGAL/dt        \n",
    "\n",
    "listGal[0] = 0.0\n",
    "listGalp[0] = vgal(listGal[0], listB, listT, 0)"
   ]
  },
  {
   "cell_type": "code",
   "execution_count": 29,
   "metadata": {
    "collapsed": false
   },
   "outputs": [],
   "source": [
    "RKgal(listGal, listGalp, listB, listT, dt, tmax)"
   ]
  },
  {
   "cell_type": "code",
   "execution_count": 30,
   "metadata": {
    "collapsed": false
   },
   "outputs": [
    {
     "data": {
      "text/plain": [
       "<matplotlib.text.Text at 0x7fc107bc08d0>"
      ]
     },
     "execution_count": 30,
     "metadata": {},
     "output_type": "execute_result"
    },
    {
     "data": {
      "image/png": "[encoded data removed]",
      "text/plain": [
       "<matplotlib.figure.Figure at 0x7fc108ce2d50>"
      ]
     },
     "metadata": {},
     "output_type": "display_data"
    }
   ],
   "source": [
    "figure(figsize=(10,7))\n",
    "ylim(-0.2,31)\n",
    "plot(listT[0:570/dt], listGal[0:570/dt])\n",
    "plot(listT[570/dt:2000/dt-1], listGal[570/dt:2000/dt-1])\n",
    "xlabel(\"min\")\n",
    "ylabel(\"mg\")"
   ]
  },
  {
   "cell_type": "code",
   "execution_count": null,
   "metadata": {
    "collapsed": false
   },
   "outputs": [],
   "source": []
  }
 ],
 "metadata": {
  "kernelspec": {
   "display_name": "Python 2",
   "language": "python",
   "name": "python2"
  },
  "language_info": {
   "codemirror_mode": {
    "name": "ipython",
    "version": 2
   },
   "file_extension": ".py",
   "mimetype": "text/x-python",
   "name": "python",
   "nbconvert_exporter": "python",
   "pygments_lexer": "ipython2",
   "version": "2.7.10"
  }
 },
 "nbformat": 4,
 "nbformat_minor": 0
}
