{
 "cells": [
  {
   "cell_type": "code",
   "execution_count": 1,
   "metadata": {
    "collapsed": false
   },
   "outputs": [
    {
     "name": "stdout",
     "output_type": "stream",
     "text": [
      "Populating the interactive namespace from numpy and matplotlib\n"
     ]
    }
   ],
   "source": [
    "%pylab inline\n",
    "from scipy import signal"
   ]
  },
  {
   "cell_type": "markdown",
   "metadata": {},
   "source": [
    "# Competencia determinista\n",
    "> A contra B en un medio oscilante, taza de transiciones constante"
   ]
  },
  {
   "cell_type": "code",
   "execution_count": 38,
   "metadata": {
    "collapsed": false
   },
   "outputs": [],
   "source": [
    "def growth(A, B, media, gA, gB, gam):  \n",
    "    '''Devuelve la velocidad con que crecen A y B\n",
    "    A,B: cantidad de células de un tipo\n",
    "    media: medio en el que se esta\n",
    "    gA1, gB1: taza de crecimiento de células A y B en medio A\n",
    "    gA2, gB2: taza de crecimiento de células A y B en medio B\n",
    "    gam: taza de transiciones'''\n",
    "    if media == 1:             #estamos en A\n",
    "        vA = gam*(B-A) + A/gA[0]\n",
    "        vB = -gam*(B-A) + B/gB[0]\n",
    "    if media == -1:            #estamos en b\n",
    "        vA = gam*(B-A) + A/gA[1]\n",
    "        vB = -gam*(B-A) + B/gB[1]\n",
    "        \n",
    "    return vA,vB"
   ]
  },
  {
   "cell_type": "code",
   "execution_count": 39,
   "metadata": {
    "collapsed": true
   },
   "outputs": [],
   "source": [
    "def RK(listA, listB, listvA, listvB, media, gA, gB, dt, tmax, gam):\n",
    "    '''RungeKutta\n",
    "    listA, listB: lista de cantidad de celulas\n",
    "    listvA, listvB: lista de crecimiento \n",
    "    media: lista de medio en el que se esta\n",
    "    gA, gB: taza de crecimiento gA>gB\n",
    "    dt: paso\n",
    "    tmax: tiempo de simulacion'''\n",
    "    n=0\n",
    "    while n < (tmax/dt-1):\n",
    "        At = listA[n]\n",
    "        Bt = listB[n]\n",
    "        vAt = listvA[n]\n",
    "        vBt = listvB[n]\n",
    "        m = media[n]\n",
    "        \n",
    "        K1 = vAt*dt\n",
    "        L1 = vBt*dt\n",
    "        \n",
    "        At = listA[n] + 0.5*K1\n",
    "        Bt = listB[n] + 0.5*L1\n",
    "        vAt, vBt = growth(At, Bt, m, gA, gB, gam)\n",
    "        \n",
    "        K2 = vAt*dt\n",
    "        L2 = vBt*dt\n",
    "        \n",
    "        At = listA[n] + 0.5*K2\n",
    "        Bt = listB[n] + 0.5*L2\n",
    "        vAt, vBt = growth(At, Bt, m, gA, gB, gam)\n",
    "        \n",
    "        K3 = vAt*dt\n",
    "        L3 = vBt*dt\n",
    "        \n",
    "        At = listA[n] + 0.5*K3\n",
    "        Bt = listB[n] + 0.5*L3\n",
    "        vAt, vBt = growth(At, Bt, m, gA, gB, gam)\n",
    "        \n",
    "        K4 = vAt*dt\n",
    "        L4 = vBt*dt\n",
    "        \n",
    "        K = (K4 + 2*K3 + 2*K2 + K1)/6.0\n",
    "        L = (L4 + 2*L3 + 2*L2 + L1)/6.0\n",
    "        \n",
    "        listA[n+1] = listA[n] + K\n",
    "        listB[n+1] = listB[n] + L\n",
    "        listvA[n+1], listvB[n+1]= growth(listA[n+1], listB[n+1], m, gA, gB, gam)\n",
    "        \n",
    "        n = n+1"
   ]
  },
  {
   "cell_type": "code",
   "execution_count": 52,
   "metadata": {
    "collapsed": false
   },
   "outputs": [],
   "source": [
    "tmax = 7*24*60.0                  #tiempo de simulacion\n",
    "dt=1/(60.0*2)                  #paso (0.5 segundos)\n",
    "\n",
    "A = zeros(tmax/dt)         \n",
    "vA = zeros(tmax/dt) \n",
    "B = zeros(tmax/dt)\n",
    "vB = zeros(tmax/dt)\n",
    "\n",
    "T = arange(0,tmax,dt)      \n",
    "Media = signal.square(pi/(24*60.0) *T)        "
   ]
  },
  {
   "cell_type": "code",
   "execution_count": 53,
   "metadata": {
    "collapsed": false
   },
   "outputs": [
    {
     "data": {
      "text/plain": [
       "(-2, 2)"
      ]
     },
     "execution_count": 53,
     "metadata": {},
     "output_type": "execute_result"
    },
    {
     "data": {
      "image/png": "[encoded data removed]",
      "text/plain": [
       "<matplotlib.figure.Figure at 0x7f531f9350d0>"
      ]
     },
     "metadata": {},
     "output_type": "display_data"
    }
   ],
   "source": [
    "plot(T/60, Media)\n",
    "ylim(-2,2)"
   ]
  },
  {
   "cell_type": "code",
   "execution_count": 63,
   "metadata": {
    "collapsed": false
   },
   "outputs": [],
   "source": [
    "A[0] = 10\n",
    "B[0] = 0\n",
    "gA = [130.0, 140.0]\n",
    "gB = [90, 180.0]\n",
    "gamm = 1/(6*60.0)\n",
    "vA[0], vB[0] = growth(A[0], B[0], Media[0], gA, gB, gamm)"
   ]
  },
  {
   "cell_type": "code",
   "execution_count": 64,
   "metadata": {
    "collapsed": false
   },
   "outputs": [],
   "source": [
    "RK(A, B, vA, vB, Media, gA, gB, dt, tmax, gamm)"
   ]
  },
  {
   "cell_type": "code",
   "execution_count": 65,
   "metadata": {
    "collapsed": false
   },
   "outputs": [
    {
     "data": {
      "text/plain": [
       "[<matplotlib.lines.Line2D at 0x7f531f535a10>]"
      ]
     },
     "execution_count": 65,
     "metadata": {},
     "output_type": "execute_result"
    },
    {
     "data": {
      "image/png": "[encoded data removed]",
      "text/plain": [
       "<matplotlib.figure.Figure at 0x7f531f874c90>"
      ]
     },
     "metadata": {},
     "output_type": "display_data"
    }
   ],
   "source": [
    "plot(T,A)\n",
    "plot(T,B)"
   ]
  },
  {
   "cell_type": "code",
   "execution_count": 66,
   "metadata": {
    "collapsed": false,
    "scrolled": true
   },
   "outputs": [
    {
     "data": {
      "text/plain": [
       "[<matplotlib.lines.Line2D at 0x7f531f2b6f90>]"
      ]
     },
     "execution_count": 66,
     "metadata": {},
     "output_type": "execute_result"
    },
    {
     "data": {
      "image/png": "[encoded data removed]",
      "text/plain": [
       "<matplotlib.figure.Figure at 0x7f531f33a150>"
      ]
     },
     "metadata": {},
     "output_type": "display_data"
    }
   ],
   "source": [
    "plot(T,B/(A+B))"
   ]
  },
  {
   "cell_type": "markdown",
   "metadata": {},
   "source": [
    "#Competencia Determinista\n",
    "> A contra B en un medio oscilante"
   ]
  },
  {
   "cell_type": "code",
   "execution_count": 84,
   "metadata": {
    "collapsed": true
   },
   "outputs": [],
   "source": [
    "def growth2(A, B, media, gA, gB, gamA, gamB):  \n",
    "    '''Devuelve la velocidad con que crecen A y B\n",
    "    A,B: cantidad de células de un tipo\n",
    "    media: medio en el que se esta\n",
    "    gA1, gB1: taza de crecimiento de células A y B en medio A\n",
    "    gA2, gB2: taza de crecimiento de células A y B en medio B\n",
    "    gam: taza de transiciones'''\n",
    "    if media == 1:             #estamos en A\n",
    "        vA = gamA*(B-A) + A/gA[0]\n",
    "        vB = -gamB*(B-A) + B/gB[0]\n",
    "    if media == -1:            #estamos en b\n",
    "        vA = gamA*(B-A) + A/gA[1]\n",
    "        vB = -gamB*(B-A) + B/gB[1]\n",
    "        \n",
    "    return vA,vB"
   ]
  },
  {
   "cell_type": "code",
   "execution_count": 85,
   "metadata": {
    "collapsed": true
   },
   "outputs": [],
   "source": [
    "def RK(listA, listB, listvA, listvB, media, gA, gB, dt, tmax, gamA, gamB):\n",
    "    '''RungeKutta\n",
    "    listA, listB: lista de cantidad de celulas\n",
    "    listvA, listvB: lista de crecimiento \n",
    "    media: lista de medio en el que se esta\n",
    "    gA, gB: taza de crecimiento gA>gB\n",
    "    dt: paso\n",
    "    tmax: tiempo de simulacion'''\n",
    "    n=0\n",
    "    while n < (tmax/dt-1):\n",
    "        At = listA[n]\n",
    "        Bt = listB[n]\n",
    "        vAt = listvA[n]\n",
    "        vBt = listvB[n]\n",
    "        m = media[n]\n",
    "        \n",
    "        K1 = vAt*dt\n",
    "        L1 = vBt*dt\n",
    "        \n",
    "        At = listA[n] + 0.5*K1\n",
    "        Bt = listB[n] + 0.5*L1\n",
    "        vAt, vBt = growth2(At, Bt, m, gA, gB, gamA, gamB)\n",
    "        \n",
    "        K2 = vAt*dt\n",
    "        L2 = vBt*dt\n",
    "        \n",
    "        At = listA[n] + 0.5*K2\n",
    "        Bt = listB[n] + 0.5*L2\n",
    "        vAt, vBt = growth2(At, Bt, m, gA, gB, gamA, gamB)\n",
    "        \n",
    "        K3 = vAt*dt\n",
    "        L3 = vBt*dt\n",
    "        \n",
    "        At = listA[n] + 0.5*K3\n",
    "        Bt = listB[n] + 0.5*L3\n",
    "        vAt, vBt = growth2(At, Bt, m, gA, gB, gamA, gamB)\n",
    "        \n",
    "        K4 = vAt*dt\n",
    "        L4 = vBt*dt\n",
    "        \n",
    "        K = (K4 + 2*K3 + 2*K2 + K1)/6.0\n",
    "        L = (L4 + 2*L3 + 2*L2 + L1)/6.0\n",
    "        \n",
    "        listA[n+1] = listA[n] + K\n",
    "        listB[n+1] = listB[n] + L\n",
    "        listvA[n+1], listvB[n+1]= growth2(listA[n+1], listB[n+1], m, gA, gB, gamA, gamB)\n",
    "        \n",
    "        n = n+1"
   ]
  },
  {
   "cell_type": "code",
   "execution_count": 86,
   "metadata": {
    "collapsed": true
   },
   "outputs": [],
   "source": [
    "tmax = 7*24*60.0                  #tiempo de simulacion\n",
    "dt=1/(60.0*2)                  #paso (0.5 segundos)\n",
    "\n",
    "A = zeros(tmax/dt)         \n",
    "vA = zeros(tmax/dt) \n",
    "B = zeros(tmax/dt)\n",
    "vB = zeros(tmax/dt)\n",
    "\n",
    "T = arange(0,tmax,dt)      \n",
    "Media = signal.square(pi/(24*60.0) *T)"
   ]
  },
  {
   "cell_type": "code",
   "execution_count": 95,
   "metadata": {
    "collapsed": true
   },
   "outputs": [],
   "source": [
    "A[0] = 10\n",
    "B[0] = 0\n",
    "gA = [130.0, 140.0]\n",
    "gB = [90.0, 180.0]\n",
    "gammA = 1/(6*60.0)\n",
    "gammB = 1/(24*60.0)\n",
    "vA[0], vB[0] = growth2(A[0], B[0], Media[0], gA, gB, gammA, gammB)"
   ]
  },
  {
   "cell_type": "code",
   "execution_count": 96,
   "metadata": {
    "collapsed": false
   },
   "outputs": [],
   "source": [
    "RK(A, B, vA, vB, Media, gA, gB, dt, tmax, gammA, gammB)"
   ]
  },
  {
   "cell_type": "code",
   "execution_count": 97,
   "metadata": {
    "collapsed": false
   },
   "outputs": [
    {
     "data": {
      "text/plain": [
       "[<matplotlib.lines.Line2D at 0x7f531e0f1ad0>]"
      ]
     },
     "execution_count": 97,
     "metadata": {},
     "output_type": "execute_result"
    },
    {
     "data": {
      "image/png": "[encoded data removed]",
      "text/plain": [
       "<matplotlib.figure.Figure at 0x7f531e0f1a50>"
      ]
     },
     "metadata": {},
     "output_type": "display_data"
    }
   ],
   "source": [
    "plot(T,A)\n",
    "plot(T,B)"
   ]
  },
  {
   "cell_type": "code",
   "execution_count": 98,
   "metadata": {
    "collapsed": false
   },
   "outputs": [
    {
     "data": {
      "text/plain": [
       "[<matplotlib.lines.Line2D at 0x7f531dfb6490>]"
      ]
     },
     "execution_count": 98,
     "metadata": {},
     "output_type": "execute_result"
    },
    {
     "data": {
      "image/png": "[encoded data removed]",
      "text/plain": [
       "<matplotlib.figure.Figure at 0x7f531e042d10>"
      ]
     },
     "metadata": {},
     "output_type": "display_data"
    }
   ],
   "source": [
    "plot(T,B/(A+B))"
   ]
  },
  {
   "cell_type": "markdown",
   "metadata": {
    "collapsed": true
   },
   "source": [
    "# Transiciones\n",
    "> A se vuelve B a una taza $\\gamma$, en medio oscilante"
   ]
  },
  {
   "cell_type": "code",
   "execution_count": 75,
   "metadata": {
    "collapsed": false
   },
   "outputs": [],
   "source": [
    "def growth3(A, B, N, gA, gB, gam):\n",
    "        '''Simulación con algoritmo de gillespie'''\n",
    "        K = 2*gam*A + 2*gam*B + A/gA + B/gB \n",
    "        u = random.random(2)\n",
    "        talgo = 1/K * log(1/u[0])\n",
    "        if u[1] < (2*gam*A)/K:                            #A pasa a B\n",
    "            A = A-1.0\n",
    "            B = B+1.0\n",
    "        elif u[1] < (2*gam*A + 2*gam*B)/K:                #B pasa a A\n",
    "            A = A+1.0\n",
    "            B = B-1.0\n",
    "        elif u[1] < (2*gam*A + 2*gam*B + A/gA)/K:         #A crece\n",
    "            A = A+1.0\n",
    "            N = N+1.0\n",
    "        else:                                             #B crece\n",
    "            B = B+1.0\n",
    "            N = N+1.0\n",
    "        return A, B, N, talgo"
   ]
  },
  {
   "cell_type": "code",
   "execution_count": 76,
   "metadata": {
    "collapsed": false
   },
   "outputs": [],
   "source": [
    "N = array([10])   #Numero total de células\n",
    "A = array([10])   #Numero de células A\n",
    "B = N-A           #Numero de células B\n",
    "\n",
    "gA = 90.0\n",
    "gB = 210.0\n",
    "gam = 1/(6*60.0)\n",
    "\n",
    "tmax = 13*60.0                  #tiempo de simulacion\n",
    "T = array([0])\n"
   ]
  },
  {
   "cell_type": "code",
   "execution_count": 77,
   "metadata": {
    "collapsed": false
   },
   "outputs": [],
   "source": [
    "t=0.0\n",
    "i=0\n",
    "while (t<tmax):\n",
    "    An, Bn, Nn, dt = growth3(A[i], B[i], N[i], gA, gB, gam)\n",
    "    A = append(A,An)\n",
    "    B = append(B,Bn)\n",
    "    N = append(N,Nn)\n",
    "    \n",
    "    T = append(T,t+dt)\n",
    "    i = i+1\n",
    "    t = t+dt\n",
    "  \n",
    "    "
   ]
  },
  {
   "cell_type": "code",
   "execution_count": 81,
   "metadata": {
    "collapsed": false
   },
   "outputs": [
    {
     "data": {
      "text/plain": [
       "[<matplotlib.lines.Line2D at 0x7f531eee8d90>]"
      ]
     },
     "execution_count": 81,
     "metadata": {},
     "output_type": "execute_result"
    },
    {
     "data": {
      "image/png": "[encoded data removed]",
      "text/plain": [
       "<matplotlib.figure.Figure at 0x7f531f094290>"
      ]
     },
     "metadata": {},
     "output_type": "display_data"
    }
   ],
   "source": [
    "plot(T,B/N)"
   ]
  },
  {
   "cell_type": "code",
   "execution_count": 79,
   "metadata": {
    "collapsed": false
   },
   "outputs": [
    {
     "data": {
      "text/plain": [
       "[<matplotlib.lines.Line2D at 0x7f531f6dc450>]"
      ]
     },
     "execution_count": 79,
     "metadata": {},
     "output_type": "execute_result"
    },
    {
     "data": {
      "image/png": "[encoded data removed]",
      "text/plain": [
       "<matplotlib.figure.Figure at 0x7f531fb74b50>"
      ]
     },
     "metadata": {},
     "output_type": "display_data"
    }
   ],
   "source": [
    "plot(T,A)\n",
    "plot(T,B)\n",
    "plot(T,N)"
   ]
  },
  {
   "cell_type": "code",
   "execution_count": 80,
   "metadata": {
    "collapsed": false
   },
   "outputs": [
    {
     "data": {
      "text/plain": [
       "[<matplotlib.lines.Line2D at 0x7f531efba710>]"
      ]
     },
     "execution_count": 80,
     "metadata": {},
     "output_type": "execute_result"
    },
    {
     "data": {
      "image/png": "[encoded data removed]",
      "text/plain": [
       "<matplotlib.figure.Figure at 0x7f531f094250>"
      ]
     },
     "metadata": {},
     "output_type": "display_data"
    }
   ],
   "source": [
    "plot(T)"
   ]
  },
  {
   "cell_type": "code",
   "execution_count": null,
   "metadata": {
    "collapsed": true
   },
   "outputs": [],
   "source": []
  }
 ],
 "metadata": {
  "kernelspec": {
   "display_name": "Python 2",
   "language": "python",
   "name": "python2"
  },
  "language_info": {
   "codemirror_mode": {
    "name": "ipython",
    "version": 2
   },
   "file_extension": ".py",
   "mimetype": "text/x-python",
   "name": "python",
   "nbconvert_exporter": "python",
   "pygments_lexer": "ipython2",
   "version": "2.7.10"
  }
 },
 "nbformat": 4,
 "nbformat_minor": 0
}
